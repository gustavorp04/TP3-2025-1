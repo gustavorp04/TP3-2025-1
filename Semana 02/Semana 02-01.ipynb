{
 "cells": [
  {
   "cell_type": "markdown",
   "id": "2b30c73f-ea6f-4b94-a876-583a3da736fc",
   "metadata": {},
   "source": [
    "# SEMANA 02"
   ]
  },
  {
   "cell_type": "markdown",
   "id": "a8045d6f-7cc0-41d1-aa1f-85acbf945281",
   "metadata": {},
   "source": [
    "Gustavo Daniel Rojas Peña"
   ]
  },
  {
   "cell_type": "markdown",
   "id": "6beb368d-895a-414d-bf8d-867634a2a793",
   "metadata": {},
   "source": [
    "# TEMAS"
   ]
  },
  {
   "cell_type": "markdown",
   "id": "0f4e136f-7e0a-4f9c-b324-8471783ed343",
   "metadata": {},
   "source": [
    "1. Colecciones de datos\n",
    "2. Estructuras decisivas y estructuras repetitivas\n",
    "3. Clases y Objetos\n",
    "4. Funciones"
   ]
  },
  {
   "cell_type": "code",
   "execution_count": 118,
   "id": "0dba9586-844f-4474-abb9-0cabe01b23ad",
   "metadata": {},
   "outputs": [],
   "source": [
    "#1. Colecciones de Datos"
   ]
  },
  {
   "cell_type": "code",
   "execution_count": 120,
   "id": "6c66a299-fedb-4763-b6c1-8c54d4b9ec80",
   "metadata": {},
   "outputs": [
    {
     "name": "stdout",
     "output_type": "stream",
     "text": [
      "['ALALUNA', 'AVILA', 'CABANILLAS']\n"
     ]
    }
   ],
   "source": [
    "#1.1. Listas \n",
    "#Es una coleccion de elementos que puede ser ordenada\n",
    "lista = ['ALALUNA','AVILA','CABANILLAS']\n",
    "print(lista)"
   ]
  },
  {
   "cell_type": "code",
   "execution_count": 122,
   "id": "168b43fd-895d-4130-a675-cd618d03db42",
   "metadata": {},
   "outputs": [
    {
     "name": "stdout",
     "output_type": "stream",
     "text": [
      "AVILA\n"
     ]
    }
   ],
   "source": [
    "#Podemos extraer elementos por su posicion\n",
    "print(lista[1])"
   ]
  },
  {
   "cell_type": "code",
   "execution_count": 124,
   "id": "9f5c550b-7a8a-4983-8422-9ea29ca09726",
   "metadata": {},
   "outputs": [
    {
     "name": "stdout",
     "output_type": "stream",
     "text": [
      "['ALALUNA', 'ZZZ', 'CABANILLAS']\n"
     ]
    }
   ],
   "source": [
    "#Puedo asignar un valor a una posicion de la lista\n",
    "lista[1] = 'ZZZ'\n",
    "lista[1]\n",
    "print(lista)"
   ]
  },
  {
   "cell_type": "code",
   "execution_count": 126,
   "id": "4308450e-3942-4ee0-a7f9-fc0dd4b2e040",
   "metadata": {},
   "outputs": [
    {
     "name": "stdout",
     "output_type": "stream",
     "text": [
      "['ALALUNA', 'ZZZ', 'CABANILLAS', 'NUEVO', 'ZZZ2']\n"
     ]
    }
   ],
   "source": [
    "#Para agregar un elemento al final utilizamos append\n",
    "lista.append(\"NUEVO\")\n",
    "lista.append(\"ZZZ2\")\n",
    "print(lista)"
   ]
  },
  {
   "cell_type": "code",
   "execution_count": 128,
   "id": "0984cef6-6999-484c-bcdf-e1aea17ea1dc",
   "metadata": {},
   "outputs": [
    {
     "name": "stdout",
     "output_type": "stream",
     "text": [
      "['ALALUNA', 'CABANILLAS', 'NUEVO', 'ZZZ2']\n"
     ]
    }
   ],
   "source": [
    "#Para eliminar un elemento utilizamos remove\n",
    "lista.remove(\"ZZZ\")\n",
    "print(lista)"
   ]
  },
  {
   "cell_type": "code",
   "execution_count": null,
   "id": "7153ca6d-73e2-4b82-8925-34c1b543539c",
   "metadata": {},
   "outputs": [],
   "source": []
  }
 ],
 "metadata": {
  "kernelspec": {
   "display_name": "Python [conda env:base] *",
   "language": "python",
   "name": "conda-base-py"
  },
  "language_info": {
   "codemirror_mode": {
    "name": "ipython",
    "version": 3
   },
   "file_extension": ".py",
   "mimetype": "text/x-python",
   "name": "python",
   "nbconvert_exporter": "python",
   "pygments_lexer": "ipython3",
   "version": "3.12.7"
  }
 },
 "nbformat": 4,
 "nbformat_minor": 5
}
