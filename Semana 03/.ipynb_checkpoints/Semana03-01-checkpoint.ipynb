{
 "cells": [
  {
   "cell_type": "markdown",
   "id": "85fb5b59-96a2-4491-8d3f-3f139ed6c808",
   "metadata": {},
   "source": [
    "# SEMANA 03\n",
    "Rojas Peña Gustavo Daniel"
   ]
  },
  {
   "cell_type": "markdown",
   "id": "0e77c360-47e6-41ee-88d6-e9eef8d51ecf",
   "metadata": {},
   "source": [
    "# TEMAS\n",
    "1. Coleccion de datos\n",
    "2. Estructuras decisivas y estructuras repetitivas\n",
    "3. Clases y objetos\n",
    "4. Funciones"
   ]
  },
  {
   "cell_type": "markdown",
   "id": "ddf3a45a-08af-46db-b9e1-4428f5d7e402",
   "metadata": {},
   "source": [
    "# 1. COLECCIONES"
   ]
  },
  {
   "cell_type": "code",
   "execution_count": 106,
   "id": "2c8c1a6f-0139-40bd-b62f-b592f2b616b8",
   "metadata": {},
   "outputs": [
    {
     "name": "stdout",
     "output_type": "stream",
     "text": [
      "['Bernaola', 'Chipana', 'Gomez', 'Navarro']\n"
     ]
    }
   ],
   "source": [
    "#1.1. Listas\n",
    "#Es una coleccion de elementos que puede ser ordenada, modficiada, etc.\n",
    "#Se identifica por los corchetes\n",
    "#Ejemplo:\n",
    "aula = ['Bernaola','Chipana','Gomez','Navarro']\n",
    "print(aula)"
   ]
  },
  {
   "cell_type": "code",
   "execution_count": 108,
   "id": "ceaf4010-2ebc-41bf-9aa6-375e70a15246",
   "metadata": {},
   "outputs": [
    {
     "data": {
      "text/plain": [
       "['Bernaola', 'Chipana', 'Gomez', 'Navarro']"
      ]
     },
     "execution_count": 108,
     "metadata": {},
     "output_type": "execute_result"
    }
   ],
   "source": [
    "#Tambien se puede imprimir con solo mencionar la lista\n",
    "aula"
   ]
  },
  {
   "cell_type": "code",
   "execution_count": 110,
   "id": "9dbd894d-89c1-442a-bdd3-3c12f626e447",
   "metadata": {},
   "outputs": [
    {
     "name": "stdout",
     "output_type": "stream",
     "text": [
      "Bernaola\n",
      "Chipana\n",
      "Gomez\n",
      "Navarro\n"
     ]
    }
   ],
   "source": [
    "#Podemos extraer cada elemento por su posicion\n",
    "print(aula[0])\n",
    "print(aula[1])\n",
    "print(aula[2])\n",
    "print(aula[3])"
   ]
  },
  {
   "cell_type": "code",
   "execution_count": 112,
   "id": "c29dbb63-e801-4dc0-9a42-b5469bc4a428",
   "metadata": {},
   "outputs": [
    {
     "data": {
      "text/plain": [
       "'Chavez'"
      ]
     },
     "execution_count": 112,
     "metadata": {},
     "output_type": "execute_result"
    }
   ],
   "source": [
    "#Puedo asignar un valor a una posición de la lista\n",
    "aula[1] = 'Chavez'\n",
    "aula[1]"
   ]
  },
  {
   "cell_type": "code",
   "execution_count": 114,
   "id": "a135bd2b-8142-40a0-b6bd-bee58eeb1077",
   "metadata": {},
   "outputs": [
    {
     "data": {
      "text/plain": [
       "['Bernaola', 'Chavez', 'Gomez', 'Navarro', 'Hermitaño', 'Gomez']"
      ]
     },
     "execution_count": 114,
     "metadata": {},
     "output_type": "execute_result"
    }
   ],
   "source": [
    "#Para agregar un elemento utilizamos append\n",
    "aula.append(\"Hermitaño\")\n",
    "aula.append(\"Gomez\")\n",
    "aula\n"
   ]
  },
  {
   "cell_type": "code",
   "execution_count": 116,
   "id": "0c3a332f-254e-4055-9ce9-c8a832e88555",
   "metadata": {},
   "outputs": [
    {
     "data": {
      "text/plain": [
       "['Chavez', 'Gomez', 'Navarro', 'Hermitaño', 'Gomez']"
      ]
     },
     "execution_count": 116,
     "metadata": {},
     "output_type": "execute_result"
    }
   ],
   "source": [
    "#Para eliminar elementos utilizamos el remove[]\n",
    "aula.remove(\"Bernaola\")\n",
    "aula"
   ]
  },
  {
   "cell_type": "code",
   "execution_count": 118,
   "id": "5f291533-2572-41ec-bdc5-2ca680fd434d",
   "metadata": {},
   "outputs": [
    {
     "data": {
      "text/plain": [
       "['Chavez', 'Navarro', 'Hermitaño', 'Gomez']"
      ]
     },
     "execution_count": 118,
     "metadata": {},
     "output_type": "execute_result"
    }
   ],
   "source": [
    "#Si hubiera varios elementos de valores iguales se elimina la primera coincidencia\n",
    "aula.remove(\"Gomez\")\n",
    "aula"
   ]
  },
  {
   "cell_type": "code",
   "execution_count": 120,
   "id": "9c7abba8-8655-4889-a728-a0a9f12a4553",
   "metadata": {},
   "outputs": [
    {
     "data": {
      "text/plain": [
       "4"
      ]
     },
     "execution_count": 120,
     "metadata": {},
     "output_type": "execute_result"
    }
   ],
   "source": [
    "#Para obtener el tamaño utilizamos len()\n",
    "len(aula)"
   ]
  },
  {
   "cell_type": "code",
   "execution_count": 122,
   "id": "6cdbebcb-bd06-45ae-9cc6-cfb2d86a7f1a",
   "metadata": {},
   "outputs": [
    {
     "name": "stdout",
     "output_type": "stream",
     "text": [
      "Chavez\n",
      "Navarro\n",
      "Hermitaño\n",
      "Gomez\n"
     ]
    }
   ],
   "source": [
    "#Para recorrer podemos utilizar una esteructura repetitiva\n",
    "for alumno in aula:\n",
    "    print(alumno)"
   ]
  },
  {
   "cell_type": "code",
   "execution_count": 124,
   "id": "59452348-0b9a-4ae9-8333-3d8dd4f294c6",
   "metadata": {},
   "outputs": [
    {
     "data": {
      "text/plain": [
       "['Gomez', 'Hermitaño', 'Navarro', 'Chavez']"
      ]
     },
     "execution_count": 124,
     "metadata": {},
     "output_type": "execute_result"
    }
   ],
   "source": [
    "#Para invertir la lista utilizamos reverse()\n",
    "#Invertir no signfica ordenar en forma descendente sin invertir la lista\n",
    "aula.reverse()\n",
    "aula"
   ]
  },
  {
   "cell_type": "code",
   "execution_count": 126,
   "id": "325c081a-6b68-40a0-bd82-b89102214d17",
   "metadata": {},
   "outputs": [
    {
     "data": {
      "text/plain": [
       "['Chavez', 'Gomez', 'Hermitaño', 'Navarro']"
      ]
     },
     "execution_count": 126,
     "metadata": {},
     "output_type": "execute_result"
    }
   ],
   "source": [
    "#Para ordenar de manera alfabetica utilizamos sort()\n",
    "aula.sort()\n",
    "aula"
   ]
  },
  {
   "cell_type": "code",
   "execution_count": 128,
   "id": "5169b8a6-d7df-4326-b298-c2523c2612fc",
   "metadata": {},
   "outputs": [
    {
     "data": {
      "text/plain": [
       "('Bernaola', 'Chipana', 'Gomez', 'Navarro')"
      ]
     },
     "execution_count": 128,
     "metadata": {},
     "output_type": "execute_result"
    }
   ],
   "source": [
    "#1.2. Tuplas\n",
    "#Es una coleccion de elementos ordenada (Ordenado significa que tiene u indeice) que no se pueden modificar, es inalterable\n",
    "#No se pueden agregar elementos en las tuplas ni eliminar, se identifica por los parentesis\n",
    "tupla_aula = ('Bernaola', 'Chipana','Gomez','Navarro')\n",
    "tupla_aula"
   ]
  },
  {
   "cell_type": "code",
   "execution_count": 130,
   "id": "8e12f9fd-5b7a-440d-9138-f3a9669cfdb5",
   "metadata": {},
   "outputs": [
    {
     "data": {
      "text/plain": [
       "'Gomez'"
      ]
     },
     "execution_count": 130,
     "metadata": {},
     "output_type": "execute_result"
    }
   ],
   "source": [
    "#Se puede extraer un elemento por su posicion\n",
    "tupla_aula[2]"
   ]
  },
  {
   "cell_type": "code",
   "execution_count": 132,
   "id": "e117f621-4f1b-4cf2-9dda-163c3c31aa74",
   "metadata": {},
   "outputs": [
    {
     "data": {
      "text/plain": [
       "4"
      ]
     },
     "execution_count": 132,
     "metadata": {},
     "output_type": "execute_result"
    }
   ],
   "source": [
    "#Para saber la cantidad de elementos de una tupla utilizamos len()\n",
    "len(tupla_aula)"
   ]
  },
  {
   "cell_type": "code",
   "execution_count": 181,
   "id": "bf1b9539-85bb-4702-aec2-f99d3ba54d72",
   "metadata": {},
   "outputs": [
    {
     "data": {
      "text/plain": [
       "{'Bernaola', 'Chipana', 'Gomez', 'Navarro'}"
      ]
     },
     "execution_count": 181,
     "metadata": {},
     "output_type": "execute_result"
    }
   ],
   "source": [
    "#1.3. Conjuntos\n",
    "#Es una coleccion de elementos que no esta ordenado\n",
    "#Signfica que no tiene un indice\n",
    "conjunto_aula = {'Bernaola','Chipana','Gomez','Navarro'}\n",
    "conjunto_aula "
   ]
  },
  {
   "cell_type": "code",
   "execution_count": 183,
   "id": "d736bf20-8127-49fc-97be-423ddadbecfd",
   "metadata": {},
   "outputs": [
    {
     "name": "stdout",
     "output_type": "stream",
     "text": [
      "Gomez\n",
      "Chipana\n",
      "Bernaola\n",
      "Navarro\n"
     ]
    }
   ],
   "source": [
    "#Se puede recorrer utilizando una estructura repetitiva\n",
    "#Ejemplo: for\n",
    "for alumno in conjunto_aula:\n",
    "    print(alumno)"
   ]
  },
  {
   "cell_type": "code",
   "execution_count": 185,
   "id": "fc57e3b3-eeba-4d0e-8508-ff2e36aba3bc",
   "metadata": {},
   "outputs": [],
   "source": [
    "#Observacion: No se puede acceder por posicion pues no considera \n",
    "#indexacion\n",
    "#Por ejemplo:\n",
    "#conjunto_aula[2] devolveria un mensaje de error:\n"
   ]
  },
  {
   "cell_type": "code",
   "execution_count": 187,
   "id": "66ff2446-7b9f-4384-8995-861997d05cc5",
   "metadata": {},
   "outputs": [
    {
     "data": {
      "text/plain": [
       "4"
      ]
     },
     "execution_count": 187,
     "metadata": {},
     "output_type": "execute_result"
    }
   ],
   "source": [
    "#Para saber la cantidad de elementos utilizamos len()\n",
    "len(conjunto_aula)"
   ]
  },
  {
   "cell_type": "code",
   "execution_count": 189,
   "id": "fe8d0ae1-cd76-4d77-bc41-0a8bcce568a1",
   "metadata": {},
   "outputs": [
    {
     "data": {
      "text/plain": [
       "{'Bernaola', 'Chipana', 'Gomez', 'Navarro', 'Palomino'}"
      ]
     },
     "execution_count": 189,
     "metadata": {},
     "output_type": "execute_result"
    }
   ],
   "source": [
    "#Para agregar utilizamos la funcion add()\n",
    "conjunto_aula.add(\"Palomino\")\n",
    "conjunto_aula"
   ]
  },
  {
   "cell_type": "code",
   "execution_count": 191,
   "id": "793f0297-4021-4f45-9ac9-b94449bb912f",
   "metadata": {},
   "outputs": [
    {
     "data": {
      "text/plain": [
       "{'Bernaola', 'Gomez', 'Navarro', 'Palomino'}"
      ]
     },
     "execution_count": 191,
     "metadata": {},
     "output_type": "execute_result"
    }
   ],
   "source": [
    "#Para eliminar elementos utilizamos la funcion remove\n",
    "conjunto_aula.remove(\"Chipana\")\n",
    "conjunto_aula"
   ]
  },
  {
   "cell_type": "code",
   "execution_count": 193,
   "id": "545c0552-7650-4681-a1ba-dd4e5538e772",
   "metadata": {},
   "outputs": [
    {
     "data": {
      "text/plain": [
       "{2: 'Bernaola',\n",
       " '1': 'Chipana',\n",
       " 'dos': 'Gomez',\n",
       " '3': 'Navarro',\n",
       " '0': 'Palomino'}"
      ]
     },
     "execution_count": 193,
     "metadata": {},
     "output_type": "execute_result"
    }
   ],
   "source": [
    "#1.4. Diccionarios \n",
    "#Es una coleccion de elementos, que estan indexados\n",
    "#No estan ordenados y se pueden modificar\n",
    "#Son escritos entre llaves y estan formados por pares de elementos \n",
    "#INDICE: VALOR\n",
    "diccionario_aula = {2:'Bernaola', '1':'Chipana', 'dos': 'Gomez','3':'Navarro', '0':'Palomino'}\n",
    "diccionario_aula"
   ]
  },
  {
   "cell_type": "code",
   "execution_count": 195,
   "id": "7adfc96a-9e82-44aa-acb5-b76378c64132",
   "metadata": {},
   "outputs": [
    {
     "data": {
      "text/plain": [
       "'Palomino'"
      ]
     },
     "execution_count": 195,
     "metadata": {},
     "output_type": "execute_result"
    }
   ],
   "source": [
    "#Del diccionario: diccionario_aula extraer el valor cuyo indice sea cero \n",
    "diccionario_aula['0']"
   ]
  },
  {
   "cell_type": "code",
   "execution_count": 196,
   "id": "3cf092d2-3bae-4033-85a8-cc59674f1f8f",
   "metadata": {},
   "outputs": [
    {
     "data": {
      "text/plain": [
       "'Bernaola'"
      ]
     },
     "execution_count": 196,
     "metadata": {},
     "output_type": "execute_result"
    }
   ],
   "source": [
    "diccionario_aula[2]"
   ]
  },
  {
   "cell_type": "code",
   "execution_count": 199,
   "id": "3eac6703-0306-4522-a690-a78a8052fb22",
   "metadata": {},
   "outputs": [
    {
     "data": {
      "text/plain": [
       "'Gomez'"
      ]
     },
     "execution_count": 199,
     "metadata": {},
     "output_type": "execute_result"
    }
   ],
   "source": [
    "diccionario_aula[\"dos\"]"
   ]
  },
  {
   "cell_type": "code",
   "execution_count": 201,
   "id": "7bf8a10f-60f8-4366-a4f9-9561224e4388",
   "metadata": {},
   "outputs": [
    {
     "data": {
      "text/plain": [
       "{2: 'Bernaola',\n",
       " '1': 'Chipana',\n",
       " 'dos': 'Gomez',\n",
       " '3': 'Navarro',\n",
       " '0': 'Palomino',\n",
       " '20': 'Vilca'}"
      ]
     },
     "execution_count": 201,
     "metadata": {},
     "output_type": "execute_result"
    }
   ],
   "source": [
    "#Para añadir un par de elementos al diccionario hacemos:\n",
    "diccionario_aula['20'] = 'Vilca'\n",
    "diccionario_aula"
   ]
  },
  {
   "cell_type": "code",
   "execution_count": 203,
   "id": "42679aa1-39af-4e96-a57b-58de73869768",
   "metadata": {},
   "outputs": [
    {
     "data": {
      "text/plain": [
       "{'1': 'Chipana',\n",
       " 'dos': 'Gomez',\n",
       " '3': 'Navarro',\n",
       " '0': 'Palomino',\n",
       " '20': 'Vilca'}"
      ]
     },
     "execution_count": 203,
     "metadata": {},
     "output_type": "execute_result"
    }
   ],
   "source": [
    "#Para eliminar un elemento se utiliza pop()\n",
    "#Por ejemplo eliminar el elemento de indice dos ejemplo: Para eliminar a:\n",
    "diccionario_aula.pop(2)\n",
    "diccionario_aula"
   ]
  },
  {
   "cell_type": "code",
   "execution_count": 206,
   "id": "e987eff3-fa2f-470b-93ea-365f0c600e0c",
   "metadata": {},
   "outputs": [
    {
     "data": {
      "text/plain": [
       "{'1': 'Chipana', '3': 'Navarro', '0': 'Palomino', '20': 'Vilca'}"
      ]
     },
     "execution_count": 206,
     "metadata": {},
     "output_type": "execute_result"
    }
   ],
   "source": [
    "#Tambien se puede eliminar utilizando del()\n",
    "del(diccionario_aula[\"dos\"])\n",
    "diccionario_aula"
   ]
  },
  {
   "cell_type": "code",
   "execution_count": 208,
   "id": "6ca43286-9a76-43d7-abf5-e82bc5d5f673",
   "metadata": {},
   "outputs": [
    {
     "name": "stdout",
     "output_type": "stream",
     "text": [
      "1\n",
      "3\n",
      "0\n",
      "20\n"
     ]
    }
   ],
   "source": [
    "#Para recorrer todos los elementos podemos utilizar for\n",
    "#En este ejemplo devuelve los indices\n",
    "for indice in diccionario_aula:\n",
    "    print(indice)"
   ]
  },
  {
   "cell_type": "code",
   "execution_count": 212,
   "id": "28f08ba6-a448-4fd0-a973-54d0b8891afc",
   "metadata": {},
   "outputs": [
    {
     "name": "stdout",
     "output_type": "stream",
     "text": [
      "1 Chipana\n",
      "3 Navarro\n",
      "0 Palomino\n",
      "20 Vilca\n"
     ]
    }
   ],
   "source": [
    "#Para obtener el indice y el valor de cada elemento utilizamos items()\n",
    "for indice, valor in diccionario_aula.items():\n",
    "    print(indice, valor)"
   ]
  },
  {
   "cell_type": "code",
   "execution_count": 273,
   "id": "ec60df15-7137-46c4-8463-7f3203920ad5",
   "metadata": {},
   "outputs": [
    {
     "name": "stdin",
     "output_type": "stream",
     "text": [
      "Ingresa el apellido:  jawlkfjlas\n"
     ]
    },
    {
     "name": "stdout",
     "output_type": "stream",
     "text": [
      "No esta en la lista\n"
     ]
    },
    {
     "name": "stdin",
     "output_type": "stream",
     "text": [
      "seguir adelante? si\n",
      "Ingresa el apellido:  jsflkaf\n"
     ]
    },
    {
     "name": "stdout",
     "output_type": "stream",
     "text": [
      "No esta en la lista\n"
     ]
    },
    {
     "name": "stdin",
     "output_type": "stream",
     "text": [
      "seguir adelante? si\n",
      "Ingresa el apellido:  caballero\n"
     ]
    },
    {
     "name": "stdout",
     "output_type": "stream",
     "text": [
      "Si forma parte de la lista\n"
     ]
    },
    {
     "name": "stdin",
     "output_type": "stream",
     "text": [
      "seguir adelante? no\n"
     ]
    }
   ],
   "source": [
    "#1.5. EJERCICIO \n",
    "#Ejercicio: # 1.5. Ejercicio # Dado una lista de [BERNAL, BERNAOLA, CABALLERO, \n",
    "#CALDERON, CARRASCO, CENTENO, CHALQUE, CHAVEZ, CONDORI, CRUZ, PALACIOS, PALOMINO, \n",
    "#QUISPE, RAMOS, RODAS, SILVERA, TALAVERA, TINEO, VICTORIO, VILCA, ZEA] \n",
    "# Diseñar un código que muestre si el apellido de un estudiante (Ingresado por teclado) forma parte de la lista # tiempo: 12 minutos\n",
    "\n",
    "alumnos =  ['BERNAL', 'BERNAOLA', 'CABALLERO', 'CALDERON', 'CARRASCO', 'CENTENO', 'CHALQUE', 'CHAVEZ', 'CONDORI', 'CRUZ', 'PALACIOS', 'PALOMINO', 'QUISPE', 'RAMOS', 'RODAS', 'SILVERA', 'TALAVERA', 'TINEO', 'VICTORIO', 'VILCA', 'ZEA'] \n",
    "seguir = \"si\"\n",
    "while seguir ==\"si\":\n",
    "    apellido = input(\"Ingresa el apellido: \").upper()\n",
    "    for alumno in alumnos:\n",
    "        if alumno == apellido:\n",
    "            print(\"Si forma parte de la lista\")\n",
    "            break\n",
    "    else:\n",
    "        print(\"No esta en la lista\")\n",
    "    seguir = input(\"seguir adelante?\").lower()"
   ]
  },
  {
   "cell_type": "code",
   "execution_count": null,
   "id": "d0ca5a78-7b00-489b-8509-055beff8a13e",
   "metadata": {},
   "outputs": [],
   "source": []
  },
  {
   "cell_type": "code",
   "execution_count": null,
   "id": "d4b66e77-f947-4f1c-96f3-8d762d22213a",
   "metadata": {},
   "outputs": [],
   "source": []
  }
 ],
 "metadata": {
  "kernelspec": {
   "display_name": "Python [conda env:base] *",
   "language": "python",
   "name": "conda-base-py"
  },
  "language_info": {
   "codemirror_mode": {
    "name": "ipython",
    "version": 3
   },
   "file_extension": ".py",
   "mimetype": "text/x-python",
   "name": "python",
   "nbconvert_exporter": "python",
   "pygments_lexer": "ipython3",
   "version": "3.12.7"
  }
 },
 "nbformat": 4,
 "nbformat_minor": 5
}
