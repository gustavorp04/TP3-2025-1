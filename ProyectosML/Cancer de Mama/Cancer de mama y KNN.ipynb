{
 "cells": [
  {
   "cell_type": "code",
   "execution_count": 90,
   "id": "20d29629-cfec-4414-9572-542535444596",
   "metadata": {},
   "outputs": [],
   "source": [
    "#Autor: Rojas Peña Gustavo Daniel\n",
    "#Importar las librerías\n",
    "import pandas as pd\n",
    "import numpy as np\n",
    "import matplotlib.pyplot as plt\n",
    "import seaborn as sb\n",
    "\n",
    "dataframe = pd.read_csv('DSCancerDeMamaSinDatosPerdidos.csv',sep=';')\n",
    "clasificadores = ['Benigno','Maligno']"
   ]
  },
  {
   "cell_type": "code",
   "execution_count": 92,
   "id": "abe90099-1d21-425c-8ead-cab218b539fa",
   "metadata": {},
   "outputs": [
    {
     "data": {
      "text/html": [
       "<div>\n",
       "<style scoped>\n",
       "    .dataframe tbody tr th:only-of-type {\n",
       "        vertical-align: middle;\n",
       "    }\n",
       "\n",
       "    .dataframe tbody tr th {\n",
       "        vertical-align: top;\n",
       "    }\n",
       "\n",
       "    .dataframe thead th {\n",
       "        text-align: right;\n",
       "    }\n",
       "</style>\n",
       "<table border=\"1\" class=\"dataframe\">\n",
       "  <thead>\n",
       "    <tr style=\"text-align: right;\">\n",
       "      <th></th>\n",
       "      <th>BIRADS</th>\n",
       "      <th>Age</th>\n",
       "      <th>Shape</th>\n",
       "      <th>Margin</th>\n",
       "      <th>Density</th>\n",
       "      <th>Severity</th>\n",
       "    </tr>\n",
       "  </thead>\n",
       "  <tbody>\n",
       "    <tr>\n",
       "      <th>0</th>\n",
       "      <td>5</td>\n",
       "      <td>67</td>\n",
       "      <td>3</td>\n",
       "      <td>5</td>\n",
       "      <td>3</td>\n",
       "      <td>1</td>\n",
       "    </tr>\n",
       "    <tr>\n",
       "      <th>1</th>\n",
       "      <td>5</td>\n",
       "      <td>58</td>\n",
       "      <td>4</td>\n",
       "      <td>5</td>\n",
       "      <td>3</td>\n",
       "      <td>1</td>\n",
       "    </tr>\n",
       "    <tr>\n",
       "      <th>2</th>\n",
       "      <td>4</td>\n",
       "      <td>28</td>\n",
       "      <td>1</td>\n",
       "      <td>1</td>\n",
       "      <td>3</td>\n",
       "      <td>0</td>\n",
       "    </tr>\n",
       "    <tr>\n",
       "      <th>3</th>\n",
       "      <td>5</td>\n",
       "      <td>57</td>\n",
       "      <td>1</td>\n",
       "      <td>5</td>\n",
       "      <td>3</td>\n",
       "      <td>1</td>\n",
       "    </tr>\n",
       "    <tr>\n",
       "      <th>4</th>\n",
       "      <td>5</td>\n",
       "      <td>76</td>\n",
       "      <td>1</td>\n",
       "      <td>4</td>\n",
       "      <td>3</td>\n",
       "      <td>1</td>\n",
       "    </tr>\n",
       "    <tr>\n",
       "      <th>5</th>\n",
       "      <td>3</td>\n",
       "      <td>42</td>\n",
       "      <td>2</td>\n",
       "      <td>1</td>\n",
       "      <td>3</td>\n",
       "      <td>1</td>\n",
       "    </tr>\n",
       "    <tr>\n",
       "      <th>6</th>\n",
       "      <td>4</td>\n",
       "      <td>36</td>\n",
       "      <td>3</td>\n",
       "      <td>1</td>\n",
       "      <td>2</td>\n",
       "      <td>0</td>\n",
       "    </tr>\n",
       "    <tr>\n",
       "      <th>7</th>\n",
       "      <td>4</td>\n",
       "      <td>60</td>\n",
       "      <td>2</td>\n",
       "      <td>1</td>\n",
       "      <td>2</td>\n",
       "      <td>0</td>\n",
       "    </tr>\n",
       "    <tr>\n",
       "      <th>8</th>\n",
       "      <td>4</td>\n",
       "      <td>54</td>\n",
       "      <td>1</td>\n",
       "      <td>1</td>\n",
       "      <td>3</td>\n",
       "      <td>0</td>\n",
       "    </tr>\n",
       "    <tr>\n",
       "      <th>9</th>\n",
       "      <td>3</td>\n",
       "      <td>52</td>\n",
       "      <td>3</td>\n",
       "      <td>4</td>\n",
       "      <td>3</td>\n",
       "      <td>0</td>\n",
       "    </tr>\n",
       "  </tbody>\n",
       "</table>\n",
       "</div>"
      ],
      "text/plain": [
       "   BIRADS  Age  Shape  Margin  Density  Severity\n",
       "0       5   67      3       5        3         1\n",
       "1       5   58      4       5        3         1\n",
       "2       4   28      1       1        3         0\n",
       "3       5   57      1       5        3         1\n",
       "4       5   76      1       4        3         1\n",
       "5       3   42      2       1        3         1\n",
       "6       4   36      3       1        2         0\n",
       "7       4   60      2       1        2         0\n",
       "8       4   54      1       1        3         0\n",
       "9       3   52      3       4        3         0"
      ]
     },
     "execution_count": 92,
     "metadata": {},
     "output_type": "execute_result"
    }
   ],
   "source": [
    "dataframe.head(10)"
   ]
  },
  {
   "cell_type": "code",
   "execution_count": 94,
   "id": "32a88533-36d9-453c-8299-f9fd217a93b7",
   "metadata": {},
   "outputs": [
    {
     "data": {
      "text/plain": [
       "Severity\n",
       "0    425\n",
       "1    395\n",
       "dtype: int64"
      ]
     },
     "execution_count": 94,
     "metadata": {},
     "output_type": "execute_result"
    }
   ],
   "source": [
    "#Cantidad de instancias por clase waa\n",
    "dataframe.groupby('Severity').size()"
   ]
  },
  {
   "cell_type": "code",
   "execution_count": 96,
   "id": "147665fa-f5a5-4c93-8a55-a36fa413c51f",
   "metadata": {},
   "outputs": [
    {
     "data": {
      "text/html": [
       "<div>\n",
       "<style scoped>\n",
       "    .dataframe tbody tr th:only-of-type {\n",
       "        vertical-align: middle;\n",
       "    }\n",
       "\n",
       "    .dataframe tbody tr th {\n",
       "        vertical-align: top;\n",
       "    }\n",
       "\n",
       "    .dataframe thead th {\n",
       "        text-align: right;\n",
       "    }\n",
       "</style>\n",
       "<table border=\"1\" class=\"dataframe\">\n",
       "  <thead>\n",
       "    <tr style=\"text-align: right;\">\n",
       "      <th></th>\n",
       "      <th>BIRADS</th>\n",
       "      <th>Age</th>\n",
       "      <th>Shape</th>\n",
       "      <th>Margin</th>\n",
       "      <th>Density</th>\n",
       "      <th>Severity</th>\n",
       "    </tr>\n",
       "  </thead>\n",
       "  <tbody>\n",
       "    <tr>\n",
       "      <th>count</th>\n",
       "      <td>820.000000</td>\n",
       "      <td>820.000000</td>\n",
       "      <td>820.000000</td>\n",
       "      <td>820.000000</td>\n",
       "      <td>820.000000</td>\n",
       "      <td>820.000000</td>\n",
       "    </tr>\n",
       "    <tr>\n",
       "      <th>mean</th>\n",
       "      <td>4.314634</td>\n",
       "      <td>55.739024</td>\n",
       "      <td>2.775610</td>\n",
       "      <td>2.808537</td>\n",
       "      <td>2.915854</td>\n",
       "      <td>0.481707</td>\n",
       "    </tr>\n",
       "    <tr>\n",
       "      <th>std</th>\n",
       "      <td>0.669248</td>\n",
       "      <td>14.684062</td>\n",
       "      <td>1.243647</td>\n",
       "      <td>1.569295</td>\n",
       "      <td>0.351508</td>\n",
       "      <td>0.499970</td>\n",
       "    </tr>\n",
       "    <tr>\n",
       "      <th>min</th>\n",
       "      <td>0.000000</td>\n",
       "      <td>18.000000</td>\n",
       "      <td>1.000000</td>\n",
       "      <td>1.000000</td>\n",
       "      <td>1.000000</td>\n",
       "      <td>0.000000</td>\n",
       "    </tr>\n",
       "    <tr>\n",
       "      <th>25%</th>\n",
       "      <td>4.000000</td>\n",
       "      <td>45.750000</td>\n",
       "      <td>2.000000</td>\n",
       "      <td>1.000000</td>\n",
       "      <td>3.000000</td>\n",
       "      <td>0.000000</td>\n",
       "    </tr>\n",
       "    <tr>\n",
       "      <th>50%</th>\n",
       "      <td>4.000000</td>\n",
       "      <td>57.000000</td>\n",
       "      <td>3.000000</td>\n",
       "      <td>3.000000</td>\n",
       "      <td>3.000000</td>\n",
       "      <td>0.000000</td>\n",
       "    </tr>\n",
       "    <tr>\n",
       "      <th>75%</th>\n",
       "      <td>5.000000</td>\n",
       "      <td>66.000000</td>\n",
       "      <td>4.000000</td>\n",
       "      <td>4.000000</td>\n",
       "      <td>3.000000</td>\n",
       "      <td>1.000000</td>\n",
       "    </tr>\n",
       "    <tr>\n",
       "      <th>max</th>\n",
       "      <td>5.000000</td>\n",
       "      <td>96.000000</td>\n",
       "      <td>4.000000</td>\n",
       "      <td>5.000000</td>\n",
       "      <td>4.000000</td>\n",
       "      <td>1.000000</td>\n",
       "    </tr>\n",
       "  </tbody>\n",
       "</table>\n",
       "</div>"
      ],
      "text/plain": [
       "           BIRADS         Age       Shape      Margin     Density    Severity\n",
       "count  820.000000  820.000000  820.000000  820.000000  820.000000  820.000000\n",
       "mean     4.314634   55.739024    2.775610    2.808537    2.915854    0.481707\n",
       "std      0.669248   14.684062    1.243647    1.569295    0.351508    0.499970\n",
       "min      0.000000   18.000000    1.000000    1.000000    1.000000    0.000000\n",
       "25%      4.000000   45.750000    2.000000    1.000000    3.000000    0.000000\n",
       "50%      4.000000   57.000000    3.000000    3.000000    3.000000    0.000000\n",
       "75%      5.000000   66.000000    4.000000    4.000000    3.000000    1.000000\n",
       "max      5.000000   96.000000    4.000000    5.000000    4.000000    1.000000"
      ]
     },
     "execution_count": 96,
     "metadata": {},
     "output_type": "execute_result"
    }
   ],
   "source": [
    "dataframe.describe()"
   ]
  },
  {
   "cell_type": "code",
   "execution_count": 98,
   "id": "10267800-e003-49a3-83bc-ab5dce3bb634",
   "metadata": {},
   "outputs": [
    {
     "data": {
      "image/png": "[encoded data removed]",
      "text/plain": [
       "<Figure size 200x250 with 1 Axes>"
      ]
     },
     "metadata": {},
     "output_type": "display_data"
    }
   ],
   "source": [
    "#Mostrar graficos de barras\n",
    "import seaborn as sb \n",
    "dataframe['Severity'] = dataframe['Severity'].astype(int)\n",
    "sb.catplot(x = 'Severity',hue='Severity',data=dataframe,kind=\"count\",height=2.5,aspect=.8, palette={0:\"blue\",1:\"red\"}, legend=False)\n",
    "plt.title(\"Distribucion de clases\")\n",
    "plt.show()"
   ]
  },
  {
   "cell_type": "code",
   "execution_count": 100,
   "id": "b0d57e78-0ef5-4866-bca6-4dcfbabcf2d1",
   "metadata": {},
   "outputs": [],
   "source": [
    "y = dataframe['Severity']\n",
    "x = dataframe.drop('Severity', axis = 1)"
   ]
  },
  {
   "cell_type": "code",
   "execution_count": 116,
   "id": "169738cc-8022-4145-b75f-5ec534f60ee4",
   "metadata": {},
   "outputs": [
    {
     "name": "stdout",
     "output_type": "stream",
     "text": [
      "         Benigno  Maligno\n",
      "Benigno      105       14\n",
      "Maligno       26      101\n",
      "105 14 26 101\n",
      "              precision    recall  f1-score   support\n",
      "\n",
      "     Benigno       0.80      0.88      0.84       119\n",
      "     Maligno       0.88      0.80      0.83       127\n",
      "\n",
      "    accuracy                           0.84       246\n",
      "   macro avg       0.84      0.84      0.84       246\n",
      "weighted avg       0.84      0.84      0.84       246\n",
      "\n"
     ]
    },
    {
     "data": {
      "image/png": "[encoded data removed]",
      "text/plain": [
       "<Figure size 640x480 with 2 Axes>"
      ]
     },
     "metadata": {},
     "output_type": "display_data"
    }
   ],
   "source": [
    "from sklearn.model_selection import train_test_split\n",
    "x_train,x_test,y_train, y_test = train_test_split(x,y,test_size=0.3,random_state=30)\n",
    "\n",
    "from sklearn.neighbors import KNeighborsClassifier\n",
    "knn_mm = KNeighborsClassifier(n_neighbors=3)\n",
    "\n",
    "#Entrenar el algoritmo\n",
    "knn_mm.fit(x_train,y_train)\n",
    "predicciones = knn_mm.predict(x_test)\n",
    "\n",
    "from sklearn.metrics import classification_report, confusion_matrix\n",
    "tn, fp, fn, tp = confusion_matrix(y_test,predicciones).ravel()\n",
    "\n",
    "labels = [\"Benigno\",\"Maligno\"]\n",
    "matriz = confusion_matrix(y_test,predicciones, labels=[0,1])\n",
    "print(pd.DataFrame(matriz, index = labels, columns = labels))\n",
    "\n",
    "\n",
    "print(tn, fp, fn, tp)\n",
    "sb.heatmap(confusion_matrix(y_test,predicciones), annot=True, fmt=\"d\")\n",
    "plt.title('Confusion Matrix')\n",
    "plt.xlabel('Predicted')\n",
    "plt.ylabel('True')\n",
    "\n",
    "print(classification_report(y_test,predicciones,target_names=clasificadores))"
   ]
  },
  {
   "cell_type": "code",
   "execution_count": 104,
   "id": "8fcd09a4-d7e3-4ea5-b23c-b909c3a119dc",
   "metadata": {},
   "outputs": [
    {
     "data": {
      "text/plain": [
       "[<matplotlib.lines.Line2D at 0x12d891897f0>]"
      ]
     },
     "execution_count": 104,
     "metadata": {},
     "output_type": "execute_result"
    },
    {
     "data": {
      "image/png": "[encoded data removed]",
      "text/plain": [
       "<Figure size 640x480 with 1 Axes>"
      ]
     },
     "metadata": {},
     "output_type": "display_data"
    }
   ],
   "source": [
    "#Buscar tasa de error para encontrar el k optimo\n",
    "tasa_error=[]\n",
    "for i in range(1,25):\n",
    "    knn_mm = KNeighborsClassifier(n_neighbors=i)\n",
    "    knn_mm.fit(x_train, y_train)\n",
    "    prediccion_i = knn_mm.predict(x_test)\n",
    "    tasa_error.append(np.mean(prediccion_i != y_test))\n",
    "valores = range(1,25)\n",
    "plt.plot(valores, tasa_error, color='green',marker='o', markerfacecolor='red',markersize='8')"
   ]
  },
  {
   "cell_type": "code",
   "execution_count": 106,
   "id": "338b0e28-f1d7-431a-9f5f-5d2112ba4fe8",
   "metadata": {},
   "outputs": [
    {
     "name": "stdout",
     "output_type": "stream",
     "text": [
      "              precision    recall  f1-score   support\n",
      "\n",
      "     Benigno       0.80      0.88      0.84       119\n",
      "     Maligno       0.88      0.80      0.83       127\n",
      "\n",
      "    accuracy                           0.84       246\n",
      "   macro avg       0.84      0.84      0.84       246\n",
      "weighted avg       0.84      0.84      0.84       246\n",
      "\n"
     ]
    },
    {
     "data": {
      "image/png": "[encoded data removed]",
      "text/plain": [
       "<Figure size 640x480 with 2 Axes>"
      ]
     },
     "metadata": {},
     "output_type": "display_data"
    }
   ],
   "source": [
    "knn_m = KNeighborsClassifier(n_neighbors=3)\n",
    "knn_m.fit(x_train, y_train)\n",
    "predicciones = knn_m.predict(x_test)\n",
    "\n",
    "sb.heatmap(confusion_matrix(y_test, predicciones), annot= True, fmt = \"d\")\n",
    "plt.title('Confusion Matrix')\n",
    "plt.xlabel('Predicted')\n",
    "plt.ylabel('True')\n",
    "\n",
    "print(classification_report(y_test,predicciones,target_names=clasificadores))"
   ]
  },
  {
   "cell_type": "code",
   "execution_count": 48,
   "id": "93c9e9ca-cdc6-4ff4-9c68-bc985dbc8a3b",
   "metadata": {},
   "outputs": [
    {
     "name": "stdout",
     "output_type": "stream",
     "text": [
      "[1]\n",
      "[[0.4 0.6]]\n",
      "[0]\n",
      "[[0.6 0.4]]\n",
      "[1]\n",
      "[[0.4 0.6]]\n",
      "[0]\n",
      "[[1. 0.]]\n",
      "[0]\n",
      "[[0.6 0.4]]\n",
      "[1]\n",
      "[[0.4 0.6]]\n",
      "[0]\n",
      "[[1. 0.]]\n"
     ]
    },
    {
     "name": "stderr",
     "output_type": "stream",
     "text": [
      "C:\\Users\\Alumno\\anaconda3\\Lib\\site-packages\\sklearn\\base.py:493: UserWarning: X does not have valid feature names, but KNeighborsClassifier was fitted with feature names\n",
      "  warnings.warn(\n",
      "C:\\Users\\Alumno\\anaconda3\\Lib\\site-packages\\sklearn\\base.py:493: UserWarning: X does not have valid feature names, but KNeighborsClassifier was fitted with feature names\n",
      "  warnings.warn(\n",
      "C:\\Users\\Alumno\\anaconda3\\Lib\\site-packages\\sklearn\\base.py:493: UserWarning: X does not have valid feature names, but KNeighborsClassifier was fitted with feature names\n",
      "  warnings.warn(\n",
      "C:\\Users\\Alumno\\anaconda3\\Lib\\site-packages\\sklearn\\base.py:493: UserWarning: X does not have valid feature names, but KNeighborsClassifier was fitted with feature names\n",
      "  warnings.warn(\n",
      "C:\\Users\\Alumno\\anaconda3\\Lib\\site-packages\\sklearn\\base.py:493: UserWarning: X does not have valid feature names, but KNeighborsClassifier was fitted with feature names\n",
      "  warnings.warn(\n",
      "C:\\Users\\Alumno\\anaconda3\\Lib\\site-packages\\sklearn\\base.py:493: UserWarning: X does not have valid feature names, but KNeighborsClassifier was fitted with feature names\n",
      "  warnings.warn(\n",
      "C:\\Users\\Alumno\\anaconda3\\Lib\\site-packages\\sklearn\\base.py:493: UserWarning: X does not have valid feature names, but KNeighborsClassifier was fitted with feature names\n",
      "  warnings.warn(\n",
      "C:\\Users\\Alumno\\anaconda3\\Lib\\site-packages\\sklearn\\base.py:493: UserWarning: X does not have valid feature names, but KNeighborsClassifier was fitted with feature names\n",
      "  warnings.warn(\n",
      "C:\\Users\\Alumno\\anaconda3\\Lib\\site-packages\\sklearn\\base.py:493: UserWarning: X does not have valid feature names, but KNeighborsClassifier was fitted with feature names\n",
      "  warnings.warn(\n",
      "C:\\Users\\Alumno\\anaconda3\\Lib\\site-packages\\sklearn\\base.py:493: UserWarning: X does not have valid feature names, but KNeighborsClassifier was fitted with feature names\n",
      "  warnings.warn(\n",
      "C:\\Users\\Alumno\\anaconda3\\Lib\\site-packages\\sklearn\\base.py:493: UserWarning: X does not have valid feature names, but KNeighborsClassifier was fitted with feature names\n",
      "  warnings.warn(\n",
      "C:\\Users\\Alumno\\anaconda3\\Lib\\site-packages\\sklearn\\base.py:493: UserWarning: X does not have valid feature names, but KNeighborsClassifier was fitted with feature names\n",
      "  warnings.warn(\n",
      "C:\\Users\\Alumno\\anaconda3\\Lib\\site-packages\\sklearn\\base.py:493: UserWarning: X does not have valid feature names, but KNeighborsClassifier was fitted with feature names\n",
      "  warnings.warn(\n",
      "C:\\Users\\Alumno\\anaconda3\\Lib\\site-packages\\sklearn\\base.py:493: UserWarning: X does not have valid feature names, but KNeighborsClassifier was fitted with feature names\n",
      "  warnings.warn(\n"
     ]
    }
   ],
   "source": [
    "#BIRADS\tEdad\tForma\tMargen\tDensidad\n",
    "print(knn_mm.predict([[4,65,3,5,3]]))\n",
    "print(knn_mm.predict_proba([[4,65,3,5,3]]))\n",
    "\n",
    "print(knn_mm.predict([[3,30,2,4,3]]))\n",
    "print(knn_mm.predict_proba([[3,30,2,4,3]]))\n",
    "\n",
    "print(knn_mm.predict([[5,70,3,5,3]]))\n",
    "print(knn_mm.predict_proba([[5,70,3,5,3]]))\n",
    "\n",
    "print(knn_mm.predict([[5,20,2,1,2]]))\n",
    "print(knn_mm.predict_proba([[5,20,2,1,2]]))\n",
    "\n",
    "print(knn_mm.predict([[2,70,1,2,4]]))\n",
    "print(knn_mm.predict_proba([[2,70,1,2,4]]))\n",
    "\n",
    "print(knn_mm.predict([[5,30,1,5,2]]))\n",
    "print(knn_mm.predict_proba([[5,30,1,5,2]]))\n",
    "\n",
    "print(knn_mm.predict([[4,65,1,2,3]]))\n",
    "print(knn_mm.predict_proba([[4,65,1,2,3]]))"
   ]
  },
  {
   "cell_type": "code",
   "execution_count": null,
   "id": "f5d55e05-20e5-4638-97fa-15ccfe82be1f",
   "metadata": {},
   "outputs": [],
   "source": []
  }
 ],
 "metadata": {
  "kernelspec": {
   "display_name": "Python [conda env:base] *",
   "language": "python",
   "name": "conda-base-py"
  },
  "language_info": {
   "codemirror_mode": {
    "name": "ipython",
    "version": 3
   },
   "file_extension": ".py",
   "mimetype": "text/x-python",
   "name": "python",
   "nbconvert_exporter": "python",
   "pygments_lexer": "ipython3",
   "version": "3.12.7"
  }
 },
 "nbformat": 4,
 "nbformat_minor": 5
}
